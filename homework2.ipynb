{
 "cells": [
  {
   "cell_type": "code",
   "execution_count": 33,
   "id": "94ec2f20",
   "metadata": {},
   "outputs": [],
   "source": [
    "#!python -m pip install -q \"qdrant-client[fastembed]>=1.14.2\"\n",
    "#!python -m pip install sentence-transformers"
   ]
  },
  {
   "cell_type": "code",
   "execution_count": 1,
   "id": "379f0a9a",
   "metadata": {},
   "outputs": [],
   "source": [
    "from fastembed import TextEmbedding\n",
    "from qdrant_client import QdrantClient, models\n",
    "import numpy as np"
   ]
  },
  {
   "cell_type": "code",
   "execution_count": 24,
   "id": "d068b4b6",
   "metadata": {},
   "outputs": [],
   "source": [
    "qd_client = QdrantClient(\"http://localhost:6333\")"
   ]
  },
  {
   "cell_type": "markdown",
   "id": "7adf906a",
   "metadata": {},
   "source": [
    "### Q1. Embedding the query"
   ]
  },
  {
   "cell_type": "code",
   "execution_count": 2,
   "id": "92037e51",
   "metadata": {},
   "outputs": [],
   "source": [
    "#EMBEDDING_DIMENSIONALITY = 512\n",
    "embedding_model = TextEmbedding(model_name=\"jinaai/jina-embeddings-v2-small-en\")"
   ]
  },
  {
   "cell_type": "code",
   "execution_count": 3,
   "id": "f2f50581",
   "metadata": {},
   "outputs": [
    {
     "name": "stdout",
     "output_type": "stream",
     "text": [
      "minimal vlaue: -0.11726373885183883\n"
     ]
    }
   ],
   "source": [
    "query = 'I just discovered the course. Can I join now?'\n",
    "embedding = next(embedding_model.embed([query]))\n",
    "embedding_array = np.array(embedding)\n",
    "print(\"minimal vlaue:\", np.min(embedding_array))"
   ]
  },
  {
   "cell_type": "markdown",
   "id": "5878c88f",
   "metadata": {},
   "source": [
    "#### Cosine similarity"
   ]
  },
  {
   "cell_type": "code",
   "execution_count": 10,
   "id": "77d589a1",
   "metadata": {},
   "outputs": [
    {
     "name": "stdout",
     "output_type": "stream",
     "text": [
      "Cosine similarity: 0.808900477490305\n"
     ]
    }
   ],
   "source": [
    "text1 = \"I just discovered the course. Can I join now?\"\n",
    "text2 = \"I am intersted to learn LLM\"\n",
    "\n",
    "vec1 = next(embedding_model.embed([text1]))\n",
    "vec2 = next(embedding_model.embed([text2]))\n",
    "\n",
    "#cosine similarity \n",
    "cos_sim = np.dot(vec1, vec2)\n",
    "print(\"Cosine similarity:\", cos_sim)\n"
   ]
  },
  {
   "cell_type": "code",
   "execution_count": 11,
   "id": "db6e9803",
   "metadata": {},
   "outputs": [
    {
     "name": "stdout",
     "output_type": "stream",
     "text": [
      "Norm vec1: 1.0\n",
      "Norm vec2: 0.9999999999999999\n"
     ]
    }
   ],
   "source": [
    "print(\"Norm vec1:\", np.linalg.norm(vec1))\n",
    "print(\"Norm vec2:\", np.linalg.norm(vec2)) "
   ]
  },
  {
   "cell_type": "code",
   "execution_count": 12,
   "id": "26880606",
   "metadata": {},
   "outputs": [],
   "source": [
    "# from sentence_transformers import SentenceTransformer\n",
    "# embedding_model = SentenceTransformer('jinaai/jina-embeddings-v2-small-en')\n",
    "# query = 'I just discovered the course. Can I join now?'\n",
    "# embedding = embedding_model.encode(query)\n",
    "# embedding_array = np.array(embedding)\n",
    "# print(\"minimal vlaue:\", np.min(embedding_array))"
   ]
  },
  {
   "cell_type": "markdown",
   "id": "df7758dd",
   "metadata": {},
   "source": []
  },
  {
   "cell_type": "markdown",
   "id": "2581efd0",
   "metadata": {},
   "source": [
    "### Q2. Cosine similarity with another vector"
   ]
  },
  {
   "cell_type": "code",
   "execution_count": 13,
   "id": "ff1fdcfa",
   "metadata": {},
   "outputs": [
    {
     "name": "stdout",
     "output_type": "stream",
     "text": [
      "Cosine similarity: 0.9008528895674548\n"
     ]
    }
   ],
   "source": [
    "query = \"I just discovered the course. Can I join now?\"\n",
    "doc = \"Can I still join the course after the start date?\"\n",
    "\n",
    "# Generate embeddings (normalized vectors)\n",
    "query_vec = next(embedding_model.embed([query]))\n",
    "doc_vec = next(embedding_model.embed([doc]))\n",
    "\n",
    "# Cosine similarity = dot product (since vectors are normalized)\n",
    "cos_sim = np.dot(query_vec, doc_vec)\n",
    "print(\"Cosine similarity:\", cos_sim)"
   ]
  },
  {
   "cell_type": "markdown",
   "id": "4756d5da",
   "metadata": {},
   "source": [
    "### Q3. Ranking by cosine"
   ]
  },
  {
   "cell_type": "code",
   "execution_count": 16,
   "id": "a133452a",
   "metadata": {},
   "outputs": [],
   "source": [
    "documents = [{'text': \"Yes, even if you don't register, you're still eligible to submit the homeworks.\\nBe aware, however, that there will be deadlines for turning in the final projects. So don't leave everything for the last minute.\",\n",
    "  'section': 'General course-related questions',\n",
    "  'question': 'Course - Can I still join the course after the start date?',\n",
    "  'course': 'data-engineering-zoomcamp'},\n",
    " {'text': 'Yes, we will keep all the materials after the course finishes, so you can follow the course at your own pace after it finishes.\\nYou can also continue looking at the homeworks and continue preparing for the next cohort. I guess you can also start working on your final capstone project.',\n",
    "  'section': 'General course-related questions',\n",
    "  'question': 'Course - Can I follow the course after it finishes?',\n",
    "  'course': 'data-engineering-zoomcamp'},\n",
    " {'text': \"The purpose of this document is to capture frequently asked technical questions\\nThe exact day and hour of the course will be 15th Jan 2024 at 17h00. The course will start with the first  “Office Hours'' live.1\\nSubscribe to course public Google Calendar (it works from Desktop only).\\nRegister before the course starts using this link.\\nJoin the course Telegram channel with announcements.\\nDon’t forget to register in DataTalks.Club's Slack and join the channel.\",\n",
    "  'section': 'General course-related questions',\n",
    "  'question': 'Course - When will the course start?',\n",
    "  'course': 'data-engineering-zoomcamp'},\n",
    " {'text': 'You can start by installing and setting up all the dependencies and requirements:\\nGoogle cloud account\\nGoogle Cloud SDK\\nPython 3 (installed with Anaconda)\\nTerraform\\nGit\\nLook over the prerequisites and syllabus to see if you are comfortable with these subjects.',\n",
    "  'section': 'General course-related questions',\n",
    "  'question': 'Course - What can I do before the course starts?',\n",
    "  'course': 'data-engineering-zoomcamp'},\n",
    " {'text': 'Star the repo! Share it with friends if you find it useful ❣️\\nCreate a PR if you see you can improve the text or the structure of the repository.',\n",
    "  'section': 'General course-related questions',\n",
    "  'question': 'How can we contribute to the course?',\n",
    "  'course': 'data-engineering-zoomcamp'}]"
   ]
  },
  {
   "cell_type": "code",
   "execution_count": 17,
   "id": "ca395527",
   "metadata": {},
   "outputs": [
    {
     "name": "stdout",
     "output_type": "stream",
     "text": [
      "document index with the highest similarity: 1\n"
     ]
    }
   ],
   "source": [
    "embedding_model = TextEmbedding(model_name=\"jinaai/jina-embeddings-v2-small-en\")\n",
    "query = 'I just discovered the course. Can I join now?'\n",
    "query_vector = next(embedding_model.embed([query]))\n",
    "\n",
    "# Embed all document texts\n",
    "doc_texts = [doc[\"text\"] for doc in documents]\n",
    "doc_vectors = list(embedding_model.embed(doc_texts))\n",
    "\n",
    "# Convert to numpy array\n",
    "V = np.vstack(doc_vectors)  \n",
    "q = np.array(query_vector)  \n",
    "\n",
    "# Compute cosine similarities\n",
    "cosine_similarities = V.dot(q)  \n",
    "\n",
    "# Find the index of the highest similarity\n",
    "similar_index = int(np.argmax(cosine_similarities))\n",
    "print(\"document index with the highest similarity:\", similar_index)"
   ]
  },
  {
   "cell_type": "markdown",
   "id": "3a7e1105",
   "metadata": {},
   "source": [
    "### Q4. Ranking by cosine, version two"
   ]
  },
  {
   "cell_type": "code",
   "execution_count": 20,
   "id": "2382dbd3",
   "metadata": {},
   "outputs": [
    {
     "name": "stdout",
     "output_type": "stream",
     "text": [
      "Doc 0 cosine similarity: 0.8515\n",
      "Doc 1 cosine similarity: 0.8437\n",
      "Doc 2 cosine similarity: 0.8408\n",
      "Doc 3 cosine similarity: 0.7755\n",
      "Doc 4 cosine similarity: 0.8086\n",
      "\n",
      "Most similar doc index: 0\n"
     ]
    }
   ],
   "source": [
    "# Embed query\n",
    "embedding_model = TextEmbedding(model_name=\"jinaai/jina-embeddings-v2-small-en\")\n",
    "query = 'I just discovered the course. Can I join now?'\n",
    "query_vector = next(embedding_model.embed([query]))\n",
    "\n",
    "# Embed full_text = question + text\n",
    "full_texts = [doc['question'] + ' ' + doc['text'] for doc in documents]\n",
    "doc_vectors = list(embedding_model.embed(full_texts))\n",
    "\n",
    "# Convert to numpy array\n",
    "V = np.vstack(doc_vectors)  \n",
    "q = np.array(query_vector)  \n",
    "\n",
    "# Compute cosine similarities\n",
    "cosine_similarities = V.dot(q)  \n",
    "\n",
    "# Show similarities\n",
    "for i, score in enumerate(cosine_similarities):\n",
    "    print(f\"Doc {i} cosine similarity: {score:.4f}\")\n",
    "\n",
    "# Best match\n",
    "best_index = int(np.argmax(cosine_similarities))\n",
    "print(\"\\nMost similar doc index:\", best_index)"
   ]
  },
  {
   "cell_type": "markdown",
   "id": "ac989051",
   "metadata": {},
   "source": [
    "##### question: Is it different from Q3? If yes, why?\n",
    "IN Q3, embedded only the text field of each document.\n",
    "\n",
    "and in Q4, embedded question + text (combined as full_text) for each document. This gives the embedding model more context, helping it better understand the document's intent and closely matches the query."
   ]
  },
  {
   "cell_type": "code",
   "execution_count": null,
   "id": "7208314d",
   "metadata": {},
   "outputs": [],
   "source": []
  },
  {
   "cell_type": "markdown",
   "id": "33e60e1b",
   "metadata": {},
   "source": [
    "### Q5. Selecting the embedding model"
   ]
  },
  {
   "cell_type": "code",
   "execution_count": 22,
   "id": "6590e43a",
   "metadata": {},
   "outputs": [
    {
     "name": "stdout",
     "output_type": "stream",
     "text": [
      " smallest dimensionality for 'BAAI/bge-small-en' model: (384,)\n"
     ]
    }
   ],
   "source": [
    "#BAAI/bge-small-en  = 384\n",
    "embedding_model1 = TextEmbedding(model_name=\"BAAI/bge-small-en\")\n",
    "\n",
    "text = \"Can I still join the course after the start date?\"\n",
    "\n",
    "# Embed the text\n",
    "embedding1 = next(embedding_model1.embed([text]))\n",
    "print(\" smallest dimensionality for 'BAAI/bge-small-en' model:\", np.array(embedding1).shape)"
   ]
  },
  {
   "cell_type": "markdown",
   "id": "66071ef5",
   "metadata": {},
   "source": [
    "### Q6. Indexing with qdrant (2 points)"
   ]
  },
  {
   "cell_type": "code",
   "execution_count": 23,
   "id": "b8dedbbf",
   "metadata": {},
   "outputs": [],
   "source": [
    "import requests \n",
    "\n",
    "docs_url = 'https://github.com/alexeygrigorev/llm-rag-workshop/raw/main/notebooks/documents.json'\n",
    "docs_response = requests.get(docs_url)\n",
    "documents_raw = docs_response.json()\n",
    "\n",
    "\n",
    "documents = []\n",
    "\n",
    "for course in documents_raw:\n",
    "    course_name = course['course']\n",
    "    if course_name != 'machine-learning-zoomcamp':\n",
    "        continue\n",
    "\n",
    "    for doc in course['documents']:\n",
    "        doc['course'] = course_name\n",
    "        documents.append(doc)"
   ]
  },
  {
   "cell_type": "code",
   "execution_count": 32,
   "id": "a49c1154",
   "metadata": {},
   "outputs": [
    {
     "name": "stderr",
     "output_type": "stream",
     "text": [
      "/tmp/ipykernel_28346/2312395785.py:8: DeprecationWarning: `recreate_collection` method is deprecated and will be removed in the future. Use `collection_exists` to check collection existence and `create_collection` instead.\n",
      "  qd_client.recreate_collection(\n"
     ]
    },
    {
     "name": "stdout",
     "output_type": "stream",
     "text": [
      "highest score: 0.8703172\n"
     ]
    },
    {
     "name": "stderr",
     "output_type": "stream",
     "text": [
      "/tmp/ipykernel_28346/2312395785.py:38: DeprecationWarning: `search` method is deprecated and will be removed in the future. Use `query_points` instead.\n",
      "  search_result = qd_client.search(\n"
     ]
    }
   ],
   "source": [
    "import uuid\n",
    "## using BAAI/bge-small-en model \n",
    "embedding_BAAI_model = TextEmbedding(model_name=\"BAAI/bge-small-en\")\n",
    "\n",
    "# Create collection (if not exists)\n",
    "collection_name = \"ml_zoomcamp_faq\"\n",
    "vector_size = 384\n",
    "qd_client.recreate_collection(\n",
    "    collection_name=collection_name,\n",
    "    vectors_config=models.VectorParams(size=vector_size, distance=models.Distance.COSINE)\n",
    ")\n",
    "\n",
    "# insert documents\n",
    "payloads = []\n",
    "vectors = []\n",
    "ids = []\n",
    "\n",
    "for doc in documents:\n",
    "    text = doc[\"question\"] + \" \" + doc[\"text\"]\n",
    "    vector = next(embedding_BAAI_model.embed([text]))\n",
    "    payloads.append(doc)\n",
    "    vectors.append(vector)\n",
    "    ids.append(str(uuid.uuid4()))  # unique ID for each doc\n",
    "\n",
    "qd_client.upsert(\n",
    "    collection_name=collection_name,\n",
    "    points=models.Batch(\n",
    "        ids=ids,\n",
    "        vectors=vectors,\n",
    "        payloads=payloads\n",
    "    )\n",
    ")\n",
    "\n",
    "# Query with Q1\n",
    "query = \"I just discovered the course. Can I join now?\"\n",
    "query_vector = next(embedding_BAAI_model.embed([query]))\n",
    "\n",
    "search_result = qd_client.search(\n",
    "    collection_name=collection_name,\n",
    "    query_vector=query_vector,\n",
    "    limit=1\n",
    ")\n",
    "\n",
    "# highest score\n",
    "print(\"highest score:\", search_result[0].score)"
   ]
  },
  {
   "cell_type": "markdown",
   "id": "238bb5d4",
   "metadata": {},
   "source": [
    "using jinaai/jina-embeddings-v2-small-en"
   ]
  },
  {
   "cell_type": "code",
   "execution_count": 30,
   "id": "bf47f984",
   "metadata": {},
   "outputs": [
    {
     "name": "stderr",
     "output_type": "stream",
     "text": [
      "/tmp/ipykernel_28346/3706720415.py:6: DeprecationWarning: `recreate_collection` method is deprecated and will be removed in the future. Use `collection_exists` to check collection existence and `create_collection` instead.\n",
      "  qd_client.recreate_collection(\n"
     ]
    },
    {
     "name": "stdout",
     "output_type": "stream",
     "text": [
      "highest score: 0.8620738\n"
     ]
    },
    {
     "name": "stderr",
     "output_type": "stream",
     "text": [
      "/tmp/ipykernel_28346/3706720415.py:36: DeprecationWarning: `search` method is deprecated and will be removed in the future. Use `query_points` instead.\n",
      "  search_result = qd_client.search(\n"
     ]
    }
   ],
   "source": [
    "## using jinaai/jina-embeddings-v2-small-en\n",
    "embedding_jina_model = TextEmbedding(model_name=\"jinaai/jina-embeddings-v2-small-en\")\n",
    "\n",
    "# Create collection (if not exists)\n",
    "collection_name = \"ml_zoomcamp_faq\"\n",
    "vector_size = 512\n",
    "qd_client.recreate_collection(\n",
    "    collection_name=collection_name,\n",
    "    vectors_config=models.VectorParams(size=vector_size, distance=models.Distance.COSINE)\n",
    ")\n",
    "\n",
    "# insert documents\n",
    "payloads = []\n",
    "vectors = []\n",
    "ids = []\n",
    "\n",
    "for doc in documents:\n",
    "    text = doc[\"question\"] + \" \" + doc[\"text\"]\n",
    "    vector = next(embedding_jina_model.embed([text]))\n",
    "    payloads.append(doc)\n",
    "    vectors.append(vector)\n",
    "    ids.append(str(uuid.uuid4()))  # unique ID for each doc\n",
    "\n",
    "qd_client.upsert(\n",
    "    collection_name=collection_name,\n",
    "    points=models.Batch(\n",
    "        ids=ids,\n",
    "        vectors=vectors,\n",
    "        payloads=payloads\n",
    "    )\n",
    ")\n",
    "\n",
    "# Query with Q1\n",
    "query = \"I just discovered the course. Can I join now?\"\n",
    "query_vector = next(embedding_jina_model.embed([query]))\n",
    "\n",
    "search_result = qd_client.search(\n",
    "    collection_name=collection_name,\n",
    "    query_vector=query_vector,\n",
    "    limit=1\n",
    ")\n",
    "\n",
    "# highest score\n",
    "print(\"highest score:\", search_result[0].score)"
   ]
  },
  {
   "cell_type": "code",
   "execution_count": null,
   "id": "b9f2f0a5",
   "metadata": {},
   "outputs": [],
   "source": []
  }
 ],
 "metadata": {
  "kernelspec": {
   "display_name": "Python 3",
   "language": "python",
   "name": "python3"
  },
  "language_info": {
   "codemirror_mode": {
    "name": "ipython",
    "version": 3
   },
   "file_extension": ".py",
   "mimetype": "text/x-python",
   "name": "python",
   "nbconvert_exporter": "python",
   "pygments_lexer": "ipython3",
   "version": "3.12.1"
  }
 },
 "nbformat": 4,
 "nbformat_minor": 5
}
