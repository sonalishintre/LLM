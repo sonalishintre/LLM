{
 "cells": [
  {
   "cell_type": "code",
   "execution_count": null,
   "id": "4ec25986",
   "metadata": {},
   "outputs": [],
   "source": []
  },
  {
   "cell_type": "markdown",
   "id": "fca5cb91",
   "metadata": {},
   "source": [
    "### Q1: Running Elastic\n",
    "Run Elastic Search 8.17.6, and get the cluster information. If you run it on localhost, this is how you do it:"
   ]
  },
  {
   "cell_type": "markdown",
   "id": "450525ea",
   "metadata": {},
   "source": [
    "##### terminal\n",
    "@sonalishintre ➜ /workspaces/Large-Language-Model--Zoomcamp (main) $ curl http://localhost:9200\n",
    "\n",
    "{\n",
    "  \"name\" : \"c8133064d7e3\",\n",
    "  \"cluster_name\" : \"docker-cluster\",\n",
    "  \"cluster_uuid\" : \"bJUBWiJIQ3CvaKPfEXqbhQ\",\n",
    "  \"version\" : {\n",
    "    \"number\" : \"8.4.3\",\n",
    "    \"build_flavor\" : \"default\",\n",
    "    \"build_type\" : \"docker\",\n",
    "    \"build_hash\" : \"42f05b9372a9a4a470db3b52817899b99a76ee73\",\n",
    "    \"build_date\" : \"2022-10-04T07:17:24.662462378Z\",\n",
    "    \"build_snapshot\" : false,\n",
    "    \"lucene_version\" : \"9.3.0\",\n",
    "    \"minimum_wire_compatibility_version\" : \"7.17.0\",\n",
    "    \"minimum_index_compatibility_version\" : \"7.0.0\"\n",
    "  },\n",
    "  \"tagline\" : \"You Know, for Search\"\n",
    "}"
   ]
  },
  {
   "cell_type": "markdown",
   "id": "493127bd",
   "metadata": {},
   "source": [
    "#### Q2. Indexing the data\n",
    "Index the data in the same way as was shown in the course videos. Make the course field a keyword and the rest should be text."
   ]
  },
  {
   "cell_type": "code",
   "execution_count": 2,
   "id": "23e1cf73",
   "metadata": {},
   "outputs": [],
   "source": [
    "import requests \n",
    "\n",
    "docs_url = 'https://github.com/DataTalksClub/llm-zoomcamp/blob/main/01-intro/documents.json?raw=1'\n",
    "docs_response = requests.get(docs_url)\n",
    "documents_raw = docs_response.json()\n",
    "\n",
    "documents = []\n",
    "\n",
    "for course in documents_raw:\n",
    "    course_name = course['course']\n",
    "\n",
    "    for doc in course['documents']:\n",
    "        doc['course'] = course_name\n",
    "        documents.append(doc)"
   ]
  },
  {
   "cell_type": "code",
   "execution_count": 8,
   "id": "81db724c",
   "metadata": {},
   "outputs": [],
   "source": [
    "#documents_raw[1]"
   ]
  },
  {
   "cell_type": "code",
   "execution_count": 4,
   "id": "16bd76a8",
   "metadata": {},
   "outputs": [
    {
     "data": {
      "text/plain": [
       "{'text': \"The purpose of this document is to capture frequently asked technical questions\\nThe exact day and hour of the course will be 15th Jan 2024 at 17h00. The course will start with the first  “Office Hours'' live.1\\nSubscribe to course public Google Calendar (it works from Desktop only).\\nRegister before the course starts using this link.\\nJoin the course Telegram channel with announcements.\\nDon’t forget to register in DataTalks.Club's Slack and join the channel.\",\n",
       " 'section': 'General course-related questions',\n",
       " 'question': 'Course - When will the course start?',\n",
       " 'course': 'data-engineering-zoomcamp'}"
      ]
     },
     "execution_count": 4,
     "metadata": {},
     "output_type": "execute_result"
    }
   ],
   "source": [
    "documents[0]"
   ]
  },
  {
   "cell_type": "markdown",
   "id": "e704da58",
   "metadata": {},
   "source": [
    "### Q3: Searching "
   ]
  },
  {
   "cell_type": "code",
   "execution_count": 9,
   "id": "883ebf79",
   "metadata": {},
   "outputs": [],
   "source": [
    "query = {\n",
    "    \"query\": {\n",
    "        \"multi_match\": {\n",
    "            \"query\": \"How do execute a command on a Kubernetes pod?\",\n",
    "            \"fields\": [\"question^4\", \"text\"],  # Boost question field\n",
    "            \"type\": \"best_fields\"\n",
    "        }\n",
    "    }\n",
    "}"
   ]
  },
  {
   "cell_type": "code",
   "execution_count": 19,
   "id": "bd954d0c",
   "metadata": {},
   "outputs": [],
   "source": [
    "for i, doc in enumerate(documents):\n",
    "    res = requests.post(f\"http://localhost:9200/llm_docs/_doc/{i}\", json=doc)\n",
    "    #print(res.status_code, res.json())"
   ]
  },
  {
   "cell_type": "code",
   "execution_count": 26,
   "id": "17034729",
   "metadata": {},
   "outputs": [
    {
     "data": {
      "text/plain": [
       "dict_keys(['took', 'timed_out', '_shards', 'hits'])"
      ]
     },
     "execution_count": 26,
     "metadata": {},
     "output_type": "execute_result"
    }
   ],
   "source": [
    "response = requests.get(\"http://localhost:9200/llm_docs/_search\", json=query)\n",
    "results = response.json()\n",
    "results.keys()"
   ]
  },
  {
   "cell_type": "code",
   "execution_count": 30,
   "id": "20d1663c",
   "metadata": {},
   "outputs": [
    {
     "data": {
      "text/plain": [
       "dict_values([24, False, {'total': 1, 'successful': 1, 'skipped': 0, 'failed': 0}, {'total': {'value': 739, 'relation': 'eq'}, 'max_score': 44.55304, 'hits': [{'_index': 'llm_docs', '_id': '604', '_score': 44.55304, '_ignored': ['text.keyword'], '_source': {'text': 'Launch the container image in interactive mode and overriding the entrypoint, so that it starts a bash command.\\ndocker run -it --entrypoint bash <image>\\nIf the container is already running, execute a command in the specific container:\\ndocker ps (find the container-id)\\ndocker exec -it <container-id> bash\\n(Marcos MJD)', 'section': '5. Deploying Machine Learning Models', 'question': 'How do I debug a docker container?', 'course': 'machine-learning-zoomcamp'}}, {'_index': 'llm_docs', '_id': '747', '_score': 36.05889, '_source': {'text': 'Deploy and Access the Kubernetes Dashboard\\nLuke', 'section': '10. Kubernetes and TensorFlow Serving', 'question': 'Kubernetes-dashboard', 'course': 'machine-learning-zoomcamp'}}, {'_index': 'llm_docs', '_id': '636', '_score': 33.745697, '_ignored': ['text.keyword'], '_source': {'text': 'You can copy files from your local machine into a Docker container using the docker cp command. Here\\'s how to do it:\\nIn the Dockerfile, you can provide the folder containing the files that you want to copy over. The basic syntax is as follows:\\nCOPY [\"src/predict.py\", \"models/xgb_model.bin\", \"./\"]\\t\\t\\t\\t\\t\\t\\t\\t\\t\\t\\tGopakumar Gopinathan', 'section': '5. Deploying Machine Learning Models', 'question': 'How do I copy files from a different folder into docker container’s working directory?', 'course': 'machine-learning-zoomcamp'}}, {'_index': 'llm_docs', '_id': '619', '_score': 33.29323, '_ignored': ['text.keyword'], '_source': {'text': 'Problem description:\\nI started a web-server in terminal (command window, powershell, etc.). How can I run another python script, which makes a request to this server?\\nSolution description:\\nJust open another terminal (command window, powershell, etc.) and run a python script.\\nAlena Kniazeva', 'section': '5. Deploying Machine Learning Models', 'question': 'How to run a script while a web-server is working?', 'course': 'machine-learning-zoomcamp'}}, {'_index': 'llm_docs', '_id': '574', '_score': 32.6179, '_ignored': ['text.keyword'], '_source': {'text': \"Matplotlib has a cool method to annotate where you could provide an X,Y point and annotate with an arrow and text. For example this will show an arrow pointing to the x,y point optimal threshold.\\nplt.annotate(f'Optimal Threshold: {optimal_threshold:.2f}\\\\nOptimal F1 Score: {optimal_f1_score:.2f}',\\nxy=(optimal_threshold, optimal_f1_score),\\nxytext=(0.3, 0.5),\\ntextcoords='axes fraction',\\narrowprops=dict(facecolor='black', shrink=0.05))\\nQuinn Avila\", 'section': '4. Evaluation Metrics for Classification', 'question': 'How can I annotate a graph?', 'course': 'machine-learning-zoomcamp'}}, {'_index': 'llm_docs', '_id': '410', '_score': 32.00351, '_ignored': ['text.keyword'], '_source': {'text': 'Install the astronomer-cosmos package as a dependency. (see Terraform example).\\nMake a new folder, dbt/, inside the dags/ folder of your Composer GCP bucket and copy paste your dbt-core project there. (see example)\\nEnsure your profiles.yml is configured to authenticate with a service account key. (see BigQuery example)\\nCreate a new DAG using the DbtTaskGroup class and a ProfileConfig specifying a profiles_yml_filepath that points to the location of your JSON key file. (see example)\\nYour dbt lineage graph should now appear as tasks inside a task group like this:', 'section': 'Course Management Form for Homeworks', 'question': 'How to run a dbt-core project as an Airflow Task Group on Google Cloud Composer using a service account JSON key', 'course': 'data-engineering-zoomcamp'}}, {'_index': 'llm_docs', '_id': '768', '_score': 31.920187, '_ignored': ['text.keyword'], '_source': {'text': 'Alexey Grigorev: “It’s based on all the scores to make sure most of you pass.”                                                   By Annaliese Bronz\\nOther course-related questions that don’t fall into any of the categories above or can apply to more than one category/module', 'section': 'Miscellaneous', 'question': 'Do you pass a project based on the average of everyone else’s scores or based on the total score you earn?', 'course': 'machine-learning-zoomcamp'}}, {'_index': 'llm_docs', '_id': '776', '_score': 31.125595, '_source': {'text': 'There are different techniques, but the most common used are the next:\\nDataset transformation (for example, log transformation)\\nClipping high values\\nDropping these observations\\nAlena Kniazeva', 'section': 'Miscellaneous', 'question': 'How to handle outliers in a dataset?', 'course': 'machine-learning-zoomcamp'}}, {'_index': 'llm_docs', '_id': '5', '_score': 31.125595, '_ignored': ['text.keyword'], '_source': {'text': \"There are 3 Zoom Camps in a year, as of 2024. However, they are for separate courses:\\nData-Engineering (Jan - Apr)\\nMLOps (May - Aug)\\nMachine Learning (Sep - Jan)\\nThere's only one Data-Engineering Zoomcamp “live” cohort per year, for the certification. Same as for the other Zoomcamps.\\nThey follow pretty much the same schedule for each cohort per zoomcamp. For Data-Engineering it is (generally) from Jan-Apr of the year. If you’re not interested in the Certificate, you can take any zoom camps at any time, at your own pace, out of sync with any “live” cohort.\", 'section': 'General course-related questions', 'question': 'Course - how many Zoomcamps in a year?', 'course': 'data-engineering-zoomcamp'}}, {'_index': 'llm_docs', '_id': '347', '_score': 30.183891, '_ignored': ['text.keyword'], '_source': {'text': 'Error:\\nspark.createDataFrame(df_pandas).schema\\nTypeError: field Affiliated_base_number: Can not merge type <class \\'pyspark.sql.types.StringType\\'> and <class \\'pyspark.sql.types.DoubleType\\'>\\nSolution:\\nAffiliated_base_number is a mix of letters and numbers (you can check this with a preview of the table), so it cannot be set to DoubleType (only for double-precision numbers). The suitable type would be StringType. Spark  inferSchema is more accurate than Pandas infer type method in this case. You can set it to  true  while reading the csv, so you don’t have to take out any data from your dataset. Something like this can help:\\ndf = spark.read \\\\\\n.options(\\nheader = \"true\", \\\\\\ninferSchema = \"true\", \\\\\\n) \\\\\\n.csv(\\'path/to/your/csv/file/\\')\\nSolution B:\\nIt\\'s because some rows in the affiliated_base_number are null and therefore it is assigned the datatype String and this cannot be converted to type Double. So if you really want to convert this pandas df to a pyspark df only take the  rows from the pandas df that are not null in the \\'Affiliated_base_number\\' column. Then you will be able to apply the pyspark function createDataFrame.\\n# Only take rows that have no null values\\npandas_df= pandas_df[pandas_df.notnull().all(1)]', 'section': 'Module 5: pyspark', 'question': 'TypeError when using spark.createDataFrame function on a pandas df', 'course': 'data-engineering-zoomcamp'}}]}])"
      ]
     },
     "execution_count": 30,
     "metadata": {},
     "output_type": "execute_result"
    }
   ],
   "source": [
    "results.values()"
   ]
  },
  {
   "cell_type": "code",
   "execution_count": 31,
   "id": "f7226c08",
   "metadata": {},
   "outputs": [
    {
     "name": "stdout",
     "output_type": "stream",
     "text": [
      "score: 44.55304\n",
      "result: {'text': 'Launch the container image in interactive mode and overriding the entrypoint, so that it starts a bash command.\\ndocker run -it --entrypoint bash <image>\\nIf the container is already running, execute a command in the specific container:\\ndocker ps (find the container-id)\\ndocker exec -it <container-id> bash\\n(Marcos MJD)', 'section': '5. Deploying Machine Learning Models', 'question': 'How do I debug a docker container?', 'course': 'machine-learning-zoomcamp'}\n"
     ]
    }
   ],
   "source": [
    "print(\"score:\", results[\"hits\"][\"hits\"][0][\"_score\"])\n",
    "print(\"result:\", results[\"hits\"][\"hits\"][0][\"_source\"])"
   ]
  },
  {
   "cell_type": "markdown",
   "id": "8aa81051",
   "metadata": {},
   "source": [
    "#### Q4. Filtering\n",
    "Now ask a different question: \"How do copy a file to a Docker container?\".\n",
    "\n",
    "Return 3 results. What's the 3rd question returned by the search engine?\n",
    "\n",
    "How do I debug a docker container?\n",
    "How do I copy files from a different folder into docker container’s working directory?\n",
    "How do Lambda container images work?\n",
    "How can I annotate a graph?"
   ]
  },
  {
   "cell_type": "code",
   "execution_count": 46,
   "id": "adbd885f",
   "metadata": {},
   "outputs": [],
   "source": [
    "query = {\n",
    "    \"query\": {\n",
    "        \"bool\": {\n",
    "            \"must\": {\n",
    "                \"multi_match\": {\n",
    "                    \"query\": \"How do copy a file to a Docker container?\",\n",
    "                    \"fields\": [\"question^4\", \"text\"],\n",
    "                    \"type\": \"best_fields\"\n",
    "                }\n",
    "            },\n",
    "            \"filter\": {\n",
    "                \"term\": {\n",
    "                    \"course\": \"machine-learning-zoomcamp\"\n",
    "                }\n",
    "            }\n",
    "        }\n",
    "    },\n",
    "    \"size\": 3\n",
    "}"
   ]
  },
  {
   "cell_type": "code",
   "execution_count": 47,
   "id": "01f14358",
   "metadata": {},
   "outputs": [],
   "source": [
    "response = requests.get(\"http://localhost:9200/llm_docs/_search\", json=query)\n",
    "results = response.json()"
   ]
  },
  {
   "cell_type": "code",
   "execution_count": 48,
   "id": "0e722c12",
   "metadata": {},
   "outputs": [
    {
     "name": "stdout",
     "output_type": "stream",
     "text": [
      "Top 3 Results:\n",
      "1. How do I debug a docker container?\n",
      "2. How do I copy files from my local machine to docker container?\n",
      "3. How do I copy files from a different folder into docker container’s working directory?\n"
     ]
    }
   ],
   "source": [
    "# top 3 questions\n",
    "print(\"Top 3 Results:\")\n",
    "for i, hit in enumerate(results[\"hits\"][\"hits\"]):\n",
    "    print(f\"{i+1}. {hit['_source']['question']}\")"
   ]
  },
  {
   "cell_type": "code",
   "execution_count": 49,
   "id": "cfd3c362",
   "metadata": {},
   "outputs": [],
   "source": [
    "## Delete the index if it already exists (optional, for clean start)\n",
    "# requests.delete(\"http://localhost:9200/llm_docs\")\n",
    "\n",
    "# # Create the index with proper mapping\n",
    "# mapping = {\n",
    "#     \"mappings\": {\n",
    "#         \"properties\": {\n",
    "#             \"course\": {\"type\": \"keyword\"},\n",
    "#             \"question\": {\"type\": \"text\"},\n",
    "#             \"text\": {\"type\": \"text\"}\n",
    "#         }\n",
    "#     }\n",
    "# }\n",
    "\n",
    "# response = requests.put(\"http://localhost:9200/llm_docs\", json=mapping)\n",
    "\n",
    "# print(\"Index created:\", response.status_code, response.json())\n",
    "\n",
    "# for i, doc in enumerate(documents):\n",
    "#     res = requests.post(f\"http://localhost:9200/llm_docs/_doc/{i}\", json=doc)\n",
    "#     if res.status_code not in (200, 201):\n",
    "#         print(f\"Failed to index document {i}: {res.status_code}, {res.text}\")\n",
    "\n",
    "# res = requests.get(\"http://localhost:9200/llm_docs/_count\")\n",
    "# print(\"Total documents:\", res.json()[\"count\"])"
   ]
  },
  {
   "cell_type": "markdown",
   "id": "6cca0100",
   "metadata": {},
   "source": [
    "#### Q5. Building a prompt\n",
    "Now we're ready to build a prompt to send to an LLM.\n",
    "\n",
    "Take the records returned from Elasticsearch in Q4 and use this template to build the context. Separate context entries by two linebreaks (\\n\\n)\n",
    "\n",
    "What's the length of the resulting prompt? (use the len function)\n",
    "\n",
    "946\n",
    "1446\n",
    "1946\n",
    "2446"
   ]
  },
  {
   "cell_type": "code",
   "execution_count": 50,
   "id": "e7670e1d",
   "metadata": {},
   "outputs": [
    {
     "name": "stdout",
     "output_type": "stream",
     "text": [
      "=== Final Prompt ===\n",
      "\n",
      "You're a course teaching assistant. Answer the QUESTION based on the CONTEXT from the FAQ database.\n",
      "Use only the facts from the CONTEXT when answering the QUESTION.\n",
      "\n",
      "QUESTION: How do copy a file to a Docker container?\n",
      "\n",
      "CONTEXT:\n",
      "Q: How do I debug a docker container?\n",
      "A: Launch the container image in interactive mode and overriding the entrypoint, so that it starts a bash command.\n",
      "docker run -it --entrypoint bash <image>\n",
      "If the container is already running, execute a command in the specific container:\n",
      "docker ps (find the container-id)\n",
      "docker exec -it <container-id> bash\n",
      "(Marcos MJD)\n",
      "\n",
      "Q: How do I copy files from my local machine to docker container?\n",
      "A: You can copy files from your local machine into a Docker container using the docker cp command. Here's how to do it:\n",
      "To copy a file or directory from your local machine into a running Docker container, you can use the `docker cp command`. The basic syntax is as follows:\n",
      "docker cp /path/to/local/file_or_directory container_id:/path/in/container\n",
      "Hrithik Kumar Advani\n",
      "\n",
      "Q: How do I copy files from a different folder into docker container’s working directory?\n",
      "A: You can copy files from your local machine into a Docker container using the docker cp command. Here's how to do it:\n",
      "In the Dockerfile, you can provide the folder containing the files that you want to copy over. The basic syntax is as follows:\n",
      "COPY [\"src/predict.py\", \"models/xgb_model.bin\", \"./\"]\t\t\t\t\t\t\t\t\t\t\tGopakumar Gopinathan\n"
     ]
    }
   ],
   "source": [
    "import requests\n",
    "\n",
    "# Define the search query\n",
    "query = {\n",
    "    \"query\": {\n",
    "        \"bool\": {\n",
    "            \"must\": {\n",
    "                \"multi_match\": {\n",
    "                    \"query\": \"How do copy a file to a Docker container?\",\n",
    "                    \"fields\": [\"question^4\", \"text\"],\n",
    "                    \"type\": \"best_fields\"\n",
    "                }\n",
    "            },\n",
    "            \"filter\": {\n",
    "                \"term\": {\n",
    "                    \"course\": \"machine-learning-zoomcamp\"\n",
    "                }\n",
    "            }\n",
    "        }\n",
    "    },\n",
    "    \"size\": 3\n",
    "}\n",
    "\n",
    "# Execute the search\n",
    "response = requests.get(\"http://localhost:9200/llm_docs/_search\", json=query)\n",
    "results = response.json()[\"hits\"][\"hits\"]\n",
    "\n",
    "# Build context from search results\n",
    "context_template = \"\"\"\n",
    "Q: {question}\n",
    "A: {text}\n",
    "\"\"\".strip()\n",
    "\n",
    "context = \"\\n\\n\".join(\n",
    "    context_template.format(\n",
    "        question=hit[\"_source\"][\"question\"],\n",
    "        text=hit[\"_source\"][\"text\"]\n",
    "    )\n",
    "    for hit in results\n",
    ")\n",
    "\n",
    "# Final prompt template\n",
    "prompt_template = \"\"\"\n",
    "You're a course teaching assistant. Answer the QUESTION based on the CONTEXT from the FAQ database.\n",
    "Use only the facts from the CONTEXT when answering the QUESTION.\n",
    "\n",
    "QUESTION: {question}\n",
    "\n",
    "CONTEXT:\n",
    "{context}\n",
    "\"\"\".strip()\n",
    "\n",
    "# Build the final prompt\n",
    "question = \"How do copy a file to a Docker container?\"\n",
    "final_prompt = prompt_template.format(question=question, context=context)\n",
    "\n",
    "# Print the final prompt\n",
    "print(\"=== Final Prompt ===\\n\")\n",
    "print(final_prompt)\n"
   ]
  },
  {
   "cell_type": "code",
   "execution_count": null,
   "id": "fabbad2c",
   "metadata": {},
   "outputs": [
    {
     "name": "stdout",
     "output_type": "stream",
     "text": [
      "Prompt length: 1446\n"
     ]
    }
   ],
   "source": [
    "print(\"Prompt length:\", len(final_prompt))"
   ]
  },
  {
   "cell_type": "markdown",
   "id": "425d7da2",
   "metadata": {},
   "source": [
    "##### Q6. Tokens\n",
    "When we use the OpenAI Platform, we're charged by the number of tokens we send in our prompt and receive in the response.\n",
    "\n",
    "The OpenAI python package uses tiktoken for tokenization:"
   ]
  },
  {
   "cell_type": "code",
   "execution_count": 59,
   "id": "22cedd35",
   "metadata": {},
   "outputs": [
    {
     "name": "stdout",
     "output_type": "stream",
     "text": [
      "Requirement already satisfied: tiktoken in /home/codespace/.python/current/lib/python3.12/site-packages (0.9.0)\n",
      "Requirement already satisfied: regex>=2022.1.18 in /home/codespace/.python/current/lib/python3.12/site-packages (from tiktoken) (2024.11.6)\n",
      "Requirement already satisfied: requests>=2.26.0 in /home/codespace/.local/lib/python3.12/site-packages (from tiktoken) (2.32.3)\n",
      "Requirement already satisfied: charset-normalizer<4,>=2 in /home/codespace/.local/lib/python3.12/site-packages (from requests>=2.26.0->tiktoken) (3.4.1)\n",
      "Requirement already satisfied: idna<4,>=2.5 in /home/codespace/.local/lib/python3.12/site-packages (from requests>=2.26.0->tiktoken) (3.10)\n",
      "Requirement already satisfied: urllib3<3,>=1.21.1 in /home/codespace/.local/lib/python3.12/site-packages (from requests>=2.26.0->tiktoken) (2.3.0)\n",
      "Requirement already satisfied: certifi>=2017.4.17 in /home/codespace/.local/lib/python3.12/site-packages (from requests>=2.26.0->tiktoken) (2025.1.31)\n",
      "Requirement already satisfied: pip in /home/codespace/.python/current/lib/python3.12/site-packages (25.1.1)\n"
     ]
    }
   ],
   "source": [
    "!pip install tiktoken\n",
    "!python3 -m pip install --upgrade pip\n",
    "#encoding = tiktoken.encoding_for_model(\"gpt-4o\")"
   ]
  },
  {
   "cell_type": "code",
   "execution_count": 58,
   "id": "4e092a04",
   "metadata": {},
   "outputs": [
    {
     "name": "stdout",
     "output_type": "stream",
     "text": [
      "Number of tokens: 320\n"
     ]
    }
   ],
   "source": [
    "import tiktoken\n",
    "\n",
    "# Assume final_prompt is already created\n",
    "encoding = tiktoken.encoding_for_model(\"gpt-4o\")\n",
    "num_tokens = len(encoding.encode(final_prompt))\n",
    "\n",
    "print(\"Number of tokens:\", num_tokens)\n"
   ]
  },
  {
   "cell_type": "code",
   "execution_count": null,
   "id": "7cffef04",
   "metadata": {},
   "outputs": [],
   "source": []
  }
 ],
 "metadata": {
  "kernelspec": {
   "display_name": "Python 3",
   "language": "python",
   "name": "python3"
  },
  "language_info": {
   "codemirror_mode": {
    "name": "ipython",
    "version": 3
   },
   "file_extension": ".py",
   "mimetype": "text/x-python",
   "name": "python",
   "nbconvert_exporter": "python",
   "pygments_lexer": "ipython3",
   "version": "3.12.1"
  }
 },
 "nbformat": 4,
 "nbformat_minor": 5
}
